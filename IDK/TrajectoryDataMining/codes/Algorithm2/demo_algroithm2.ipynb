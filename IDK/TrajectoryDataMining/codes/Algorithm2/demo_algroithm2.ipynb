{
 "cells": [
  {
   "cell_type": "code",
   "execution_count": 1,
   "id": "eca2cf67",
   "metadata": {},
   "outputs": [
    {
     "name": "stdout",
     "output_type": "stream",
     "text": [
      "/home/wangyf/Documents/codes/TrajectoryDataMining_codes/codes/Algorithm2\n"
     ]
    }
   ],
   "source": [
    "import sys\n",
    "sys.path.append(\"/home/wangyf/Documents/codes/TrajectoryDataMining_codes/\")\n",
    "import numpy as np\n",
    "import pandas as pd\n",
    "import  os\n",
    "import time\n",
    "import matplotlib.pyplot as plt\n",
    "root = \"/home/wangyf/Documents/codes/TrajectoryDataMining_codes\"\n",
    "print(os.getcwd())\n",
    "# load data\n",
    "df1 = pd.read_csv(root + \"/datasets/MoveBank/Grey-headed flying fox, Adelaide, 2015-2018-reference-data.csv\")\n",
    "df2 = pd.read_csv(root + \"/datasets/MoveBank/Grey-headed flying fox, Adelaide, 2015-2018.csv\")\n",
    "df2_indexes = list(df2['tag-local-identifier'].value_counts().index)\n",
    "df2[df2_indexes[0] == df2['tag-local-identifier']]\n",
    "\n",
    "\n",
    "def split_data(df, distinct_col='tag-local-identifier', cols_selection=['timestamp', 'location-long', 'location-lat']):\n",
    "    df_indexes = list(df[distinct_col].value_counts().index)\n",
    "    results = dict()\n",
    "    for index in df_indexes:\n",
    "        df_tmp = df[df[distinct_col] == index]\n",
    "        results[index] = df_tmp[cols_selection]\n",
    "    return results\n",
    "\n",
    "\n",
    "results_ = split_data(df2)\n",
    "result = dict()\n",
    "traj = []\n",
    "trajt = []\n",
    "for i in range(4):\n",
    "    id = list(results_.keys())[i]\n",
    "    # print(id)\n",
    "    day = results_[id].copy()\n",
    "    day['timestamp_'] = day['timestamp'].copy()\n",
    "    day['timestamp'] = day['timestamp'].map(lambda x: x[:10])\n",
    "\n",
    "    date_set = sorted(list(set(day['timestamp'])))\n",
    "    result_ = dict()\n",
    "    for date in date_set:\n",
    "        # print(date)\n",
    "        result_[date] = day[day['timestamp'] == date]\n",
    "        result[id] = result_\n",
    "        res = result[id][date]\n",
    "        result_tmp = []\n",
    "        cmd_time = []\n",
    "        for idx, row in res.iterrows():\n",
    "            result_tmp.append([row['location-long'], row['location-lat']])\n",
    "            cmd_time.append([row['timestamp_']])\n",
    "        if 0 == len(result_tmp):\n",
    "            print(i, date)\n",
    "        if 500 < len(result_tmp):\n",
    "            traj.append(result_tmp)\n",
    "            trajt.append(cmd_time)\n",
    "\n",
    "\n",
    "def get_timestamp(str_time):\n",
    "    tmp_ = time.strptime(str_time[:-4], \"%Y-%m-%d %H:%M:%S\")\n",
    "    tmp_ = time.mktime(tmp_)\n",
    "    return tmp_\n",
    "\n",
    "\n",
    "def convert_traj_time_from_start(time_str_):\n",
    "    time_tmp = [get_timestamp(x) for x in time_str_]\n",
    "    time_tmp_start = time_tmp[0]\n",
    "    time_tmp = [x - time_tmp_start for x in time_tmp]\n",
    "    return time_tmp\n",
    "\n",
    "\n",
    "result_tmp = []\n",
    "for idx, traj_ in enumerate(trajt):  # 遍历每一条轨迹\n",
    "    time_list = [x[0] for x in traj_]  # 获取时间列表\n",
    "    # print(time_list)\n",
    "    time_from_start_list = convert_traj_time_from_start(time_list)\n",
    "    result_tmp.append(time_from_start_list)\n",
    "traj_time = result_tmp\n",
    "\n",
    "anomoly_flying_fox = [1, 21, 24, 26, 34, 38, 41, 45, 46, 47, 48]\n",
    "labels = np.ones(62)"
   ]
  },
  {
   "cell_type": "code",
   "execution_count": 2,
   "id": "dcf476f1",
   "metadata": {},
   "outputs": [],
   "source": [
    "alltjlist = []\n",
    "for i in range(len(traj)):\n",
    "    #if i!= 26:\n",
    "    #if i not in anomoly_curlews:\n",
    "    if i not in anomoly_flying_fox:\n",
    "        alltjlist.append(traj[i])"
   ]
  },
  {
   "cell_type": "code",
   "execution_count": 3,
   "id": "dc8f66c1",
   "metadata": {},
   "outputs": [],
   "source": [
    "from codes.Algorithm1.iNNE_IK import iNN_IK\n",
    "inne_ik = iNN_IK(2**12, 100)"
   ]
  },
  {
   "cell_type": "code",
   "execution_count": 4,
   "id": "ef94f2d6",
   "metadata": {},
   "outputs": [],
   "source": [
    "D_idx = [0]    # index of each distributions\n",
    "alldata = []\n",
    "n = len(alltjlist)\n",
    "for i in range(1, n+1):\n",
    "    D_idx.append(D_idx[i-1]+len(alltjlist[i-1]))\n",
    "    alldata +=  alltjlist[i-1]\n",
    "alldata = np.array(alldata)"
   ]
  },
  {
   "cell_type": "code",
   "execution_count": 5,
   "id": "0c68c3a5",
   "metadata": {},
   "outputs": [],
   "source": [
    "inne_ik.fit(alldata)"
   ]
  },
  {
   "cell_type": "code",
   "execution_count": 6,
   "id": "c7c51a7e",
   "metadata": {},
   "outputs": [],
   "source": [
    "def get_ano_sub(inne_ik,anotraj):\n",
    "    idk_map = inne_ik.transform_1(np.array(anotraj))\n",
    "    mean_map = np.mean(idk_map,axis = 0)\n",
    "    score = np.dot(idk_map, mean_map.T)\n",
    "    anopoint = []\n",
    "    n = len(anotraj)\n",
    "    # n = len(score)\n",
    "    for i in range(n):\n",
    "        if score[i] == 0:\n",
    "            anopoint.append(i)\n",
    "    subtrajs = []\n",
    "    sub = []\n",
    "\n",
    "    if 0 == len(anopoint):\n",
    "        sub.append(0)\n",
    "        sub.append(n-1)\n",
    "        subtrajs.append(sub)\n",
    "        return subtrajs, [i for i in range(n)]\n",
    "\n",
    "    sub.append(anopoint[0])\n",
    "    for i in range(1,len(anopoint),1):\n",
    "        if(anopoint[i] - anopoint[i-1] > 1):\n",
    "            sub.append(anopoint[i-1])\n",
    "            if(sub[1] - sub[0] >= int(0.03*n)):\n",
    "                subtrajs.append(sub)\n",
    "            sub = []\n",
    "            sub.append(anopoint[i])\n",
    "    sub.append(anopoint[-1])\n",
    "    if(sub[1] - sub[0] >= int(0.03*n)):\n",
    "            subtrajs.append(sub)\n",
    "    if 0 == len(subtrajs):\n",
    "        sub.append(0)\n",
    "        sub.append(n-1)\n",
    "        subtrajs.append(sub)\n",
    "    return subtrajs, anopoint"
   ]
  },
  {
   "attachments": {},
   "cell_type": "markdown",
   "id": "d991b68d",
   "metadata": {},
   "source": [
    "## An Example "
   ]
  },
  {
   "cell_type": "code",
   "execution_count": 10,
   "id": "d88baa42",
   "metadata": {},
   "outputs": [],
   "source": [
    "subtrajs_1,anopoint_1 = get_ano_sub(inne_ik, traj[1]) # anomalous trajectory 1\n",
    "subtrajs_26,anopoint_26 = get_ano_sub(inne_ik,traj[26]) # anomalous trajectory 26"
   ]
  },
  {
   "cell_type": "code",
   "execution_count": 11,
   "id": "714691a7",
   "metadata": {},
   "outputs": [
    {
     "data": {
      "text/plain": [
       "(138.479656225, 138.690219875, -35.007321743999995, -34.846159556)"
      ]
     },
     "execution_count": 11,
     "metadata": {},
     "output_type": "execute_result"
    },
    {
     "data": {
      "image/png": "[encoded data removed]",
      "text/plain": [
       "<Figure size 432x288 with 1 Axes>"
      ]
     },
     "metadata": {
      "needs_background": "light"
     },
     "output_type": "display_data"
    }
   ],
   "source": [
    "for i in range(62):\n",
    "    if i not in anomoly_flying_fox :\n",
    "        x = np.array(traj[ i ]).T[ 0 ]\n",
    "        y = np.array(traj[ i ]).T[ 1 ]\n",
    "        plt.plot(x, y, color=\"b\", alpha=0.1, label=\"normal\")\n",
    "# x = np.array(traj[26]).T[ 0 ]\n",
    "# y = np.array(traj[26]).T[ 1 ]\n",
    "# plt.plot(x, y, color=\"g\",  label=\"normal\")\n",
    "x = np.array(traj[1]).T[ 0 ]\n",
    "y = np.array(traj[1]).T[ 1 ]\n",
    "plt.plot(x, y, color=\"g\",  label=\"normal\")\n",
    "# plt.annotate('Q$_1$',(138.5193176,-34.89564896),xytext=(138.5023176,-34.87564896),fontsize=20,arrowprops =dict(arrowstyle='->'))\n",
    "# plt.annotate('Q$_2$',(138.5745697,-34.99850464),xytext=(138.5416168,-34.97089005),fontsize=20,arrowprops =dict(arrowstyle='->'))\n",
    "# x = np.array(traj[45]).T[ 0 ][350:]\n",
    "# y = np.array(traj[45]).T[ 1 ][350:]\n",
    "# plt.plot(x, y, color=\"r\", label=\"normal\")\n",
    "for i in range(len(subtrajs_1)):\n",
    "    x = np.array(traj[1]).T[ 0 ][subtrajs_1[i][0]:subtrajs_1[i][1]]\n",
    "    y = np.array(traj[1]).T[ 1 ][subtrajs_1[i][0]:subtrajs_1[i][1]]\n",
    "    plt.plot(x, y, color=\"r\", label=\"normal\")\n",
    "x = np.array(traj[26]).T[ 0 ]\n",
    "y = np.array(traj[26]).T[ 1 ]\n",
    "plt.plot(x, y, color=\"g\",  label=\"normal\")\n",
    "# plt.annotate('Q$_1$',(138.5193176,-34.89564896),xytext=(138.5023176,-34.87564896),fontsize=20,arrowprops =dict(arrowstyle='->'))\n",
    "# plt.annotate('Q$_2$',(138.5745697,-34.99850464),xytext=(138.5416168,-34.97089005),fontsize=20,arrowprops =dict(arrowstyle='->'))\n",
    "# x = np.array(traj[45]).T[ 0 ][350:]\n",
    "# y = np.array(traj[45]).T[ 1 ][350:]\n",
    "# plt.plot(x, y, color=\"r\", label=\"normal\")\n",
    "for i in range(len(subtrajs_26)):\n",
    "    x = np.array(traj[26]).T[ 0 ][subtrajs_26[i][0]:subtrajs_26[i][1]]\n",
    "    y = np.array(traj[26]).T[ 1 ][subtrajs_26[i][0]:subtrajs_26[i][1]]\n",
    "    plt.plot(x, y, color=\"r\", label=\"normal\")\n",
    "plt.axis('off')"
   ]
  }
 ],
 "metadata": {
  "kernelspec": {
   "display_name": "base",
   "language": "python",
   "name": "python3"
  },
  "language_info": {
   "codemirror_mode": {
    "name": "ipython",
    "version": 3
   },
   "file_extension": ".py",
   "mimetype": "text/x-python",
   "name": "python",
   "nbconvert_exporter": "python",
   "pygments_lexer": "ipython3",
   "version": "3.9.12 (main, Apr  5 2022, 06:56:58) \n[GCC 7.5.0]"
  },
  "vscode": {
   "interpreter": {
    "hash": "5b054357dbd08db694cd759a9b97e332019deec709efbc0e915ca7e059d9de09"
   }
  }
 },
 "nbformat": 4,
 "nbformat_minor": 5
}
